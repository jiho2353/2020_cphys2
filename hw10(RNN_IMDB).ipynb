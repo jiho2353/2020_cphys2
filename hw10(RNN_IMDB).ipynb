{
 "cells": [
  {
   "cell_type": "code",
   "execution_count": 99,
   "metadata": {},
   "outputs": [
    {
     "name": "stderr",
     "output_type": "stream",
     "text": [
      "C:\\Anaconda3\\lib\\site-packages\\keras\\datasets\\imdb.py:101: VisibleDeprecationWarning: Creating an ndarray from ragged nested sequences (which is a list-or-tuple of lists-or-tuples-or ndarrays with different lengths or shapes) is deprecated. If you meant to do this, you must specify 'dtype=object' when creating the ndarray\n",
      "  x_train, y_train = np.array(xs[:idx]), np.array(labels[:idx])\n",
      "C:\\Anaconda3\\lib\\site-packages\\keras\\datasets\\imdb.py:102: VisibleDeprecationWarning: Creating an ndarray from ragged nested sequences (which is a list-or-tuple of lists-or-tuples-or ndarrays with different lengths or shapes) is deprecated. If you meant to do this, you must specify 'dtype=object' when creating the ndarray\n",
      "  x_test, y_test = np.array(xs[idx:]), np.array(labels[idx:])\n"
     ]
    }
   ],
   "source": [
    "import numpy as np\n",
    "from tensorflow import keras\n",
    "from keras import models \n",
    "from keras import layers\n",
    "import matplotlib.pyplot as plt\n",
    "\n",
    "from keras.datasets import imdb\n",
    "# https://www.imdb.com/\n",
    "(X, y_train), (X_test, y_test) = imdb.load_data(num_words=10000)"
   ]
  },
  {
   "cell_type": "code",
   "execution_count": 100,
   "metadata": {},
   "outputs": [],
   "source": [
    "# text to vector\n",
    "def vect(seq, dim=10000):\n",
    "    x=np.zeros((len(seq),dim))\n",
    "    for n, i in enumerate(seq):\n",
    "        x[n, i] = 1\n",
    "    return x\n",
    "\n",
    "X_train=vect(X)\n",
    "X_test=vect(X_test)"
   ]
  },
  {
   "cell_type": "code",
   "execution_count": 101,
   "metadata": {},
   "outputs": [
    {
     "data": {
      "text/plain": [
       "array([0., 1., 1., ..., 0., 0., 0.])"
      ]
     },
     "execution_count": 101,
     "metadata": {},
     "output_type": "execute_result"
    }
   ],
   "source": [
    "X_train[0]"
   ]
  },
  {
   "cell_type": "code",
   "execution_count": 102,
   "metadata": {},
   "outputs": [],
   "source": [
    "net = models.Sequential()\n",
    "net.add(layers.Dense(16, activation='relu', input_shape=(10000,)))\n",
    "net.add(layers.Dropout(0.5))\n",
    "net.add(layers.Dense(16, activation='relu'))\n",
    "net.add(layers.Dropout(0.5))\n",
    "net.add(layers.Dense(1, activation='sigmoid'))\n",
    "net.compile(optimizer='nadam', loss='binary_crossentropy', metrics = ['acc'])"
   ]
  },
  {
   "cell_type": "code",
   "execution_count": 103,
   "metadata": {},
   "outputs": [
    {
     "name": "stdout",
     "output_type": "stream",
     "text": [
      "Train on 15000 samples, validate on 10000 samples\n",
      "Epoch 1/10\n",
      "15000/15000 [==============================] - 10s 652us/step - loss: 0.6299 - acc: 0.6295 - val_loss: 0.4779 - val_acc: 0.8554\n",
      "Epoch 2/10\n",
      "15000/15000 [==============================] - 4s 289us/step - loss: 0.4395 - acc: 0.8136 - val_loss: 0.3189 - val_acc: 0.8803\n",
      "Epoch 3/10\n",
      "15000/15000 [==============================] - 4s 245us/step - loss: 0.3323 - acc: 0.8751 - val_loss: 0.2858 - val_acc: 0.8845\n",
      "Epoch 4/10\n",
      "15000/15000 [==============================] - 4s 241us/step - loss: 0.2697 - acc: 0.8999 - val_loss: 0.2787 - val_acc: 0.8865\n",
      "Epoch 5/10\n",
      "15000/15000 [==============================] - 4s 244us/step - loss: 0.2263 - acc: 0.9168 - val_loss: 0.2859 - val_acc: 0.8861\n",
      "Epoch 6/10\n",
      "15000/15000 [==============================] - 4s 290us/step - loss: 0.1992 - acc: 0.9283 - val_loss: 0.3083 - val_acc: 0.8871\n",
      "Epoch 7/10\n",
      "15000/15000 [==============================] - 5s 322us/step - loss: 0.1787 - acc: 0.9342 - val_loss: 0.3178 - val_acc: 0.8810\n",
      "Epoch 8/10\n",
      "15000/15000 [==============================] - 4s 285us/step - loss: 0.1627 - acc: 0.9397 - val_loss: 0.3552 - val_acc: 0.8848\n",
      "Epoch 9/10\n",
      "15000/15000 [==============================] - 4s 278us/step - loss: 0.1469 - acc: 0.9416 - val_loss: 0.3907 - val_acc: 0.8846\n",
      "Epoch 10/10\n",
      "15000/15000 [==============================] - 4s 282us/step - loss: 0.1305 - acc: 0.9497 - val_loss: 0.3958 - val_acc: 0.8834\n"
     ]
    }
   ],
   "source": [
    "X_val = X_train[:10000]\n",
    "partial_X_train = X_train[10000:]\n",
    "\n",
    "y_val = y_train[:10000]\n",
    "partial_y_train = y_train[10000:]\n",
    "\n",
    "val = net.fit(partial_X_train, partial_y_train, epochs=10, batch_size=128, validation_data=(X_val, y_val))"
   ]
  },
  {
   "cell_type": "code",
   "execution_count": 104,
   "metadata": {},
   "outputs": [
    {
     "data": {
      "text/plain": [
       "[<matplotlib.lines.Line2D at 0x17f15a3f0c8>]"
      ]
     },
     "execution_count": 104,
     "metadata": {},
     "output_type": "execute_result"
    },
    {
     "data": {
      "image/png": "[encoded data removed]",
      "text/plain": [
       "<Figure size 432x288 with 1 Axes>"
      ]
     },
     "metadata": {
      "needs_background": "light"
     },
     "output_type": "display_data"
    }
   ],
   "source": [
    "val_dict = val.history\n",
    "loss = val_dict['loss']\n",
    "val_loss = val_dict['val_loss']\n",
    "x = np.arange(0,len(loss))\n",
    "\n",
    "plt.plot(x,loss,'-')\n",
    "plt.plot(x,val_loss,'o')"
   ]
  },
  {
   "cell_type": "code",
   "execution_count": 105,
   "metadata": {},
   "outputs": [
    {
     "name": "stdout",
     "output_type": "stream",
     "text": [
      "25000/25000 [==============================] - 12s 480us/step\n"
     ]
    }
   ],
   "source": [
    "test_loss, test_acc = net.evaluate(X_test,y_test)"
   ]
  },
  {
   "cell_type": "code",
   "execution_count": 106,
   "metadata": {},
   "outputs": [
    {
     "name": "stdout",
     "output_type": "stream",
     "text": [
      "0.4200840018296242 0.8742799758911133\n"
     ]
    }
   ],
   "source": [
    "print(test_loss,test_acc)"
   ]
  },
  {
   "cell_type": "code",
   "execution_count": 115,
   "metadata": {},
   "outputs": [
    {
     "name": "stderr",
     "output_type": "stream",
     "text": [
      "C:\\Anaconda3\\lib\\site-packages\\keras\\datasets\\imdb.py:101: VisibleDeprecationWarning: Creating an ndarray from ragged nested sequences (which is a list-or-tuple of lists-or-tuples-or ndarrays with different lengths or shapes) is deprecated. If you meant to do this, you must specify 'dtype=object' when creating the ndarray\n",
      "  x_train, y_train = np.array(xs[:idx]), np.array(labels[:idx])\n",
      "C:\\Anaconda3\\lib\\site-packages\\keras\\datasets\\imdb.py:102: VisibleDeprecationWarning: Creating an ndarray from ragged nested sequences (which is a list-or-tuple of lists-or-tuples-or ndarrays with different lengths or shapes) is deprecated. If you meant to do this, you must specify 'dtype=object' when creating the ndarray\n",
      "  x_test, y_test = np.array(xs[idx:]), np.array(labels[idx:])\n"
     ]
    }
   ],
   "source": [
    "from keras.preprocessing import sequence\n",
    "\n",
    "max_words=10000 \n",
    "(X_train_seq, y_train_seq), (X_test_seq, y_test_seq) = imdb.load_data(num_words=max_words)"
   ]
  },
  {
   "cell_type": "code",
   "execution_count": 116,
   "metadata": {},
   "outputs": [],
   "source": [
    "# Data preprocessing \n",
    "\n",
    "maxlen = 100 # sequence length\n",
    "X_train_seq = sequence.pad_sequences(X_train_seq, maxlen=maxlen)\n",
    "X_test_seq = sequence.pad_sequences(X_test_seq, maxlen=maxlen)"
   ]
  },
  {
   "cell_type": "code",
   "execution_count": 117,
   "metadata": {},
   "outputs": [
    {
     "name": "stdout",
     "output_type": "stream",
     "text": [
      "[[1415   33    6 ...   19  178   32]\n",
      " [ 163   11 3215 ...   16  145   95]\n",
      " [1301    4 1873 ...    7  129  113]\n",
      " ...\n",
      " [  11    6 4065 ...    4 3586    2]\n",
      " [ 100 2198    8 ...   12    9   23]\n",
      " [  78 1099   17 ...  204  131    9]]\n",
      "(25000, 100)\n"
     ]
    }
   ],
   "source": [
    "print(X_train_seq)\n",
    "print(np.shape(X_train_seq))"
   ]
  },
  {
   "cell_type": "code",
   "execution_count": 130,
   "metadata": {},
   "outputs": [
    {
     "name": "stdout",
     "output_type": "stream",
     "text": [
      "Model: \"sequential_29\"\n",
      "_________________________________________________________________\n",
      "Layer (type)                 Output Shape              Param #   \n",
      "=================================================================\n",
      "embedding_25 (Embedding)     (None, None, 16)          160000    \n",
      "_________________________________________________________________\n",
      "simple_rnn_48 (SimpleRNN)    (None, None, 16)          528       \n",
      "_________________________________________________________________\n",
      "dropout_52 (Dropout)         (None, None, 16)          0         \n",
      "_________________________________________________________________\n",
      "simple_rnn_49 (SimpleRNN)    (None, None, 16)          528       \n",
      "_________________________________________________________________\n",
      "dropout_53 (Dropout)         (None, None, 16)          0         \n",
      "_________________________________________________________________\n",
      "simple_rnn_50 (SimpleRNN)    (None, 16)                528       \n",
      "_________________________________________________________________\n",
      "dropout_54 (Dropout)         (None, 16)                0         \n",
      "_________________________________________________________________\n",
      "dense_38 (Dense)             (None, 1)                 17        \n",
      "=================================================================\n",
      "Total params: 161,601\n",
      "Trainable params: 161,601\n",
      "Non-trainable params: 0\n",
      "_________________________________________________________________\n"
     ]
    }
   ],
   "source": [
    "rnn = models.Sequential()\n",
    "rnn.add(layers.Embedding(max_words, 16)) \n",
    "rnn.add(layers.SimpleRNN(16,activation = 'relu',return_sequences = True)) \n",
    "rnn.add(layers.Dropout(0.5))\n",
    "rnn.add(layers.SimpleRNN(16,activation = 'relu',return_sequences = True))\n",
    "rnn.add(layers.Dropout(0.5))\n",
    "rnn.add(layers.SimpleRNN(16,activation = 'relu'))\n",
    "rnn.add(layers.Dropout(0.5))\n",
    "rnn.add(layers.Dense(1,activation = 'sigmoid'))\n",
    "rnn.compile(optimizer = 'nadam',loss = 'binary_crossentropy',metrics = ['acc'])\n",
    "rnn.summary()\n",
    "# 다층 RNN를 하기 위해 return_sequences = True로 설정"
   ]
  },
  {
   "cell_type": "code",
   "execution_count": 131,
   "metadata": {},
   "outputs": [
    {
     "name": "stdout",
     "output_type": "stream",
     "text": [
      "Train on 20000 samples, validate on 5000 samples\n",
      "Epoch 1/10\n",
      "20000/20000 [==============================] - 13s 641us/step - loss: 0.6935 - acc: 0.5365 - val_loss: 0.6907 - val_acc: 0.5412\n",
      "Epoch 2/10\n",
      "20000/20000 [==============================] - 12s 590us/step - loss: 0.6524 - acc: 0.6382 - val_loss: 0.6330 - val_acc: 0.6692\n",
      "Epoch 3/10\n",
      "20000/20000 [==============================] - 11s 563us/step - loss: 0.5642 - acc: 0.7502 - val_loss: 0.5548 - val_acc: 0.7256\n",
      "Epoch 4/10\n",
      "20000/20000 [==============================] - 11s 573us/step - loss: 0.4864 - acc: 0.8026 - val_loss: 0.4747 - val_acc: 0.7932\n",
      "Epoch 5/10\n",
      "20000/20000 [==============================] - 11s 564us/step - loss: 0.4584 - acc: 0.8155 - val_loss: 0.4794 - val_acc: 0.7858\n",
      "Epoch 6/10\n",
      "20000/20000 [==============================] - 11s 561us/step - loss: 0.3886 - acc: 0.8550 - val_loss: 0.4422 - val_acc: 0.8030\n",
      "Epoch 7/10\n",
      "20000/20000 [==============================] - 11s 561us/step - loss: 0.3564 - acc: 0.8716 - val_loss: 0.4287 - val_acc: 0.8302\n",
      "Epoch 8/10\n",
      "20000/20000 [==============================] - 11s 561us/step - loss: 0.3293 - acc: 0.8830 - val_loss: 0.4815 - val_acc: 0.8284\n",
      "Epoch 9/10\n",
      "20000/20000 [==============================] - 11s 561us/step - loss: 0.2913 - acc: 0.9047 - val_loss: 0.4812 - val_acc: 0.7858\n",
      "Epoch 10/10\n",
      "20000/20000 [==============================] - 11s 566us/step - loss: 0.2577 - acc: 0.9168 - val_loss: 0.5539 - val_acc: 0.8116\n"
     ]
    }
   ],
   "source": [
    "history = rnn.fit(X_train_seq,y_train_seq,epochs = 10 ,batch_size = 128,verbose=1,validation_split = 0.2)"
   ]
  },
  {
   "cell_type": "code",
   "execution_count": 132,
   "metadata": {},
   "outputs": [
    {
     "data": {
      "image/png": "[encoded data removed]",
      "text/plain": [
       "<Figure size 432x288 with 2 Axes>"
      ]
     },
     "metadata": {
      "needs_background": "light"
     },
     "output_type": "display_data"
    }
   ],
   "source": [
    "rnn_dict = history.history\n",
    "\n",
    "rnn_acc = rnn_dict['acc']\n",
    "rnn_val_acc = rnn_dict['val_acc']\n",
    "\n",
    "rnn_loss = rnn_dict['loss']\n",
    "rnn_val_loss = rnn_dict['val_loss']\n",
    "\n",
    "x = np.arange(1,len(loss)+1)\n",
    "\n",
    "plt.subplot(121)\n",
    "plt.title('Accuarcy')\n",
    "plt.plot(x,rnn_acc,'-',label = 'Acc')\n",
    "plt.plot(x,rnn_val_acc,'o',label = 'Val_Acc')\n",
    "plt.legend()\n",
    "plt.xticks(range(1,11,1))\n",
    "plt.xlabel('epochs')\n",
    "plt.ylabel('Acc')\n",
    "\n",
    "plt.subplot(122)\n",
    "plt.title('Loss')\n",
    "plt.plot(x,rnn_loss,'-',label = 'loss')\n",
    "plt.plot(x,rnn_val_loss,'o',label = 'Val_Loss')\n",
    "plt.legend()\n",
    "plt.xticks(range(1,11,1))\n",
    "plt.xlabel('epochs')\n",
    "plt.ylabel('loss')\n",
    "plt.tight_layout()\n"
   ]
  },
  {
   "cell_type": "code",
   "execution_count": 133,
   "metadata": {},
   "outputs": [
    {
     "name": "stdout",
     "output_type": "stream",
     "text": [
      "25000/25000 [==============================] - 14s 558us/step\n"
     ]
    }
   ],
   "source": [
    "rnn_test_loss, rnn_test_acc = rnn.evaluate(X_test_seq,y_test_seq)"
   ]
  },
  {
   "cell_type": "code",
   "execution_count": 134,
   "metadata": {},
   "outputs": [
    {
     "name": "stdout",
     "output_type": "stream",
     "text": [
      "0.5438209671211243 0.8037999868392944\n"
     ]
    }
   ],
   "source": [
    "print(rnn_test_loss,rnn_test_acc)"
   ]
  },
  {
   "cell_type": "markdown",
   "metadata": {},
   "source": [
    "다층 신경망을 통해서 얻었던 accuracy와 loss는 0.874, 0.420이었고, RNN을 통해서 얻은 accuarcy와 loss는 0.804, 0.544가 나왔다.\n",
    "simple RNN 방식으로는 기존의 방식보다는 상대적으로 낮은 정확도와 손실율을 보였다.\n",
    "RNN 방식을 개선한 LSTM같은 방법을 사용하면 더 좋은 정확도를 얻을 수 있을거라 생각이 든다."
   ]
  },
  {
   "cell_type": "code",
   "execution_count": null,
   "metadata": {},
   "outputs": [],
   "source": []
  }
 ],
 "metadata": {
  "kernelspec": {
   "display_name": "Python 3",
   "language": "python",
   "name": "python3"
  },
  "language_info": {
   "codemirror_mode": {
    "name": "ipython",
    "version": 3
   },
   "file_extension": ".py",
   "mimetype": "text/x-python",
   "name": "python",
   "nbconvert_exporter": "python",
   "pygments_lexer": "ipython3",
   "version": "3.7.9"
  }
 },
 "nbformat": 4,
 "nbformat_minor": 4
}
