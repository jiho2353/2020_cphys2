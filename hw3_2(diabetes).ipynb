{
 "cells": [
  {
   "cell_type": "code",
   "execution_count": 4,
   "metadata": {},
   "outputs": [],
   "source": [
    "import numpy as np\n",
    "import pandas as pd\n",
    "import matplotlib.pyplot as plt\n",
    "from sklearn.datasets import load_diabetes\n",
    "from sklearn.linear_model import LinearRegression, Ridge, Lasso"
   ]
  },
  {
   "cell_type": "code",
   "execution_count": 5,
   "metadata": {},
   "outputs": [
    {
     "name": "stdout",
     "output_type": "stream",
     "text": [
      ".. _diabetes_dataset:\n",
      "\n",
      "Diabetes dataset\n",
      "----------------\n",
      "\n",
      "Ten baseline variables, age, sex, body mass index, average blood\n",
      "pressure, and six blood serum measurements were obtained for each of n =\n",
      "442 diabetes patients, as well as the response of interest, a\n",
      "quantitative measure of disease progression one year after baseline.\n",
      "\n",
      "**Data Set Characteristics:**\n",
      "\n",
      "  :Number of Instances: 442\n",
      "\n",
      "  :Number of Attributes: First 10 columns are numeric predictive values\n",
      "\n",
      "  :Target: Column 11 is a quantitative measure of disease progression one year after baseline\n",
      "\n",
      "  :Attribute Information:\n",
      "      - Age\n",
      "      - Sex\n",
      "      - Body mass index\n",
      "      - Average blood pressure\n",
      "      - S1\n",
      "      - S2\n",
      "      - S3\n",
      "      - S4\n",
      "      - S5\n",
      "      - S6\n",
      "\n",
      "Note: Each of these 10 feature variables have been mean centered and scaled by the standard deviation times `n_samples` (i.e. the sum of squares of each column totals 1).\n",
      "\n",
      "Source URL:\n",
      "http://www4.stat.ncsu.edu/~boos/var.select/diabetes.html\n",
      "\n",
      "For more information see:\n",
      "Bradley Efron, Trevor Hastie, Iain Johnstone and Robert Tibshirani (2004) \"Least Angle Regression,\" Annals of Statistics (with discussion), 407-499.\n",
      "(http://web.stanford.edu/~hastie/Papers/LARS/LeastAngle_2002.pdf)\n"
     ]
    }
   ],
   "source": [
    "dia = load_diabetes()\n",
    "print(dia.DESCR)\n",
    "\n",
    "X = dia.data\n",
    "y = dia.target"
   ]
  },
  {
   "cell_type": "code",
   "execution_count": 6,
   "metadata": {},
   "outputs": [
    {
     "name": "stdout",
     "output_type": "stream",
     "text": [
      "          age       sex       bmi        bp        s1        s2        s3  \\\n",
      "0    0.038076  0.050680  0.061696  0.021872 -0.044223 -0.034821 -0.043401   \n",
      "1   -0.001882 -0.044642 -0.051474 -0.026328 -0.008449 -0.019163  0.074412   \n",
      "2    0.085299  0.050680  0.044451 -0.005671 -0.045599 -0.034194 -0.032356   \n",
      "3   -0.089063 -0.044642 -0.011595 -0.036656  0.012191  0.024991 -0.036038   \n",
      "4    0.005383 -0.044642 -0.036385  0.021872  0.003935  0.015596  0.008142   \n",
      "5   -0.092695 -0.044642 -0.040696 -0.019442 -0.068991 -0.079288  0.041277   \n",
      "6   -0.045472  0.050680 -0.047163 -0.015999 -0.040096 -0.024800  0.000779   \n",
      "7    0.063504  0.050680 -0.001895  0.066630  0.090620  0.108914  0.022869   \n",
      "8    0.041708  0.050680  0.061696 -0.040099 -0.013953  0.006202 -0.028674   \n",
      "9   -0.070900 -0.044642  0.039062 -0.033214 -0.012577 -0.034508 -0.024993   \n",
      "10  -0.096328 -0.044642 -0.083808  0.008101 -0.103389 -0.090561 -0.013948   \n",
      "11   0.027178  0.050680  0.017506 -0.033214 -0.007073  0.045972 -0.065491   \n",
      "12   0.016281 -0.044642 -0.028840 -0.009113 -0.004321 -0.009769  0.044958   \n",
      "13   0.005383  0.050680 -0.001895  0.008101 -0.004321 -0.015719 -0.002903   \n",
      "14   0.045341 -0.044642 -0.025607 -0.012556  0.017694 -0.000061  0.081775   \n",
      "15  -0.052738  0.050680 -0.018062  0.080401  0.089244  0.107662 -0.039719   \n",
      "16  -0.005515 -0.044642  0.042296  0.049415  0.024574 -0.023861  0.074412   \n",
      "17   0.070769  0.050680  0.012117  0.056301  0.034206  0.049416 -0.039719   \n",
      "18  -0.038207 -0.044642 -0.010517 -0.036656 -0.037344 -0.019476 -0.028674   \n",
      "19  -0.027310 -0.044642 -0.018062 -0.040099 -0.002945 -0.011335  0.037595   \n",
      "20  -0.049105 -0.044642 -0.056863 -0.043542 -0.045599 -0.043276  0.000779   \n",
      "21  -0.085430  0.050680 -0.022373  0.001215 -0.037344 -0.026366  0.015505   \n",
      "22  -0.085430 -0.044642 -0.004050 -0.009113 -0.002945  0.007767  0.022869   \n",
      "23   0.045341  0.050680  0.060618  0.031053  0.028702 -0.047347 -0.054446   \n",
      "24  -0.063635 -0.044642  0.035829 -0.022885 -0.030464 -0.018850 -0.006584   \n",
      "25  -0.067268  0.050680 -0.012673 -0.040099 -0.015328  0.004636 -0.058127   \n",
      "26  -0.107226 -0.044642 -0.077342 -0.026328 -0.089630 -0.096198  0.026550   \n",
      "27  -0.023677 -0.044642  0.059541 -0.040099 -0.042848 -0.043589  0.011824   \n",
      "28   0.052606 -0.044642 -0.021295 -0.074528 -0.040096 -0.037639 -0.006584   \n",
      "29   0.067136  0.050680 -0.006206  0.063187 -0.042848 -0.095885  0.052322   \n",
      "..        ...       ...       ...       ...       ...       ...       ...   \n",
      "412  0.074401 -0.044642  0.085408  0.063187  0.014942  0.013091  0.015505   \n",
      "413 -0.052738 -0.044642 -0.000817 -0.026328  0.010815  0.007141  0.048640   \n",
      "414  0.081666  0.050680  0.006728 -0.004523  0.109883  0.117056 -0.032356   \n",
      "415 -0.005515 -0.044642  0.008883 -0.050428  0.025950  0.047224 -0.043401   \n",
      "416 -0.027310 -0.044642  0.080019  0.098763 -0.002945  0.018101 -0.017629   \n",
      "417 -0.052738 -0.044642  0.071397 -0.074528 -0.015328 -0.001314  0.004460   \n",
      "418  0.009016 -0.044642 -0.024529 -0.026328  0.098876  0.094196  0.070730   \n",
      "419 -0.020045 -0.044642 -0.054707 -0.053871 -0.066239 -0.057367  0.011824   \n",
      "420  0.023546 -0.044642 -0.036385  0.000068  0.001183  0.034698 -0.043401   \n",
      "421  0.038076  0.050680  0.016428  0.021872  0.039710  0.045032 -0.043401   \n",
      "422 -0.078165  0.050680  0.077863  0.052858  0.078236  0.064447  0.026550   \n",
      "423  0.009016  0.050680 -0.039618  0.028758  0.038334  0.073529 -0.072854   \n",
      "424  0.001751  0.050680  0.011039 -0.019442 -0.016704 -0.003819 -0.047082   \n",
      "425 -0.078165 -0.044642 -0.040696 -0.081414 -0.100638 -0.112795  0.022869   \n",
      "426  0.030811  0.050680 -0.034229  0.043677  0.057597  0.068831 -0.032356   \n",
      "427 -0.034575  0.050680  0.005650 -0.005671 -0.073119 -0.062691 -0.006584   \n",
      "428  0.048974  0.050680  0.088642  0.087287  0.035582  0.021546 -0.024993   \n",
      "429 -0.041840 -0.044642 -0.033151 -0.022885  0.046589  0.041587  0.056003   \n",
      "430 -0.009147 -0.044642 -0.056863 -0.050428  0.021822  0.045345 -0.028674   \n",
      "431  0.070769  0.050680 -0.030996  0.021872 -0.037344 -0.047034  0.033914   \n",
      "432  0.009016 -0.044642  0.055229 -0.005671  0.057597  0.044719 -0.002903   \n",
      "433 -0.027310 -0.044642 -0.060097 -0.029771  0.046589  0.019980  0.122273   \n",
      "434  0.016281 -0.044642  0.001339  0.008101  0.005311  0.010899  0.030232   \n",
      "435 -0.012780 -0.044642 -0.023451 -0.040099 -0.016704  0.004636 -0.017629   \n",
      "436 -0.056370 -0.044642 -0.074108 -0.050428 -0.024960 -0.047034  0.092820   \n",
      "437  0.041708  0.050680  0.019662  0.059744 -0.005697 -0.002566 -0.028674   \n",
      "438 -0.005515  0.050680 -0.015906 -0.067642  0.049341  0.079165 -0.028674   \n",
      "439  0.041708  0.050680 -0.015906  0.017282 -0.037344 -0.013840 -0.024993   \n",
      "440 -0.045472 -0.044642  0.039062  0.001215  0.016318  0.015283 -0.028674   \n",
      "441 -0.045472 -0.044642 -0.073030 -0.081414  0.083740  0.027809  0.173816   \n",
      "\n",
      "           s4        s5        s6  progression  \n",
      "0   -0.002592  0.019908 -0.017646        151.0  \n",
      "1   -0.039493 -0.068330 -0.092204         75.0  \n",
      "2   -0.002592  0.002864 -0.025930        141.0  \n",
      "3    0.034309  0.022692 -0.009362        206.0  \n",
      "4   -0.002592 -0.031991 -0.046641        135.0  \n",
      "5   -0.076395 -0.041180 -0.096346         97.0  \n",
      "6   -0.039493 -0.062913 -0.038357        138.0  \n",
      "7    0.017703 -0.035817  0.003064         63.0  \n",
      "8   -0.002592 -0.014956  0.011349        110.0  \n",
      "9   -0.002592  0.067736 -0.013504        310.0  \n",
      "10  -0.076395 -0.062913 -0.034215        101.0  \n",
      "11   0.071210 -0.096433 -0.059067         69.0  \n",
      "12  -0.039493 -0.030751 -0.042499        179.0  \n",
      "13  -0.002592  0.038393 -0.013504        185.0  \n",
      "14  -0.039493 -0.031991 -0.075636        118.0  \n",
      "15   0.108111  0.036056 -0.042499        171.0  \n",
      "16  -0.039493  0.052280  0.027917        166.0  \n",
      "17   0.034309  0.027368 -0.001078        144.0  \n",
      "18  -0.002592 -0.018118 -0.017646         97.0  \n",
      "19  -0.039493 -0.008944 -0.054925        168.0  \n",
      "20  -0.039493 -0.011901  0.015491         68.0  \n",
      "21  -0.039493 -0.072128 -0.017646         49.0  \n",
      "22  -0.039493 -0.061177 -0.013504         68.0  \n",
      "23   0.071210  0.133599  0.135612        245.0  \n",
      "24  -0.002592 -0.025952 -0.054925        184.0  \n",
      "25   0.034309  0.019199 -0.034215        202.0  \n",
      "26  -0.076395 -0.042572 -0.005220        137.0  \n",
      "27  -0.039493 -0.015998  0.040343         85.0  \n",
      "28  -0.039493 -0.000609 -0.054925        131.0  \n",
      "29  -0.076395  0.059424  0.052770        283.0  \n",
      "..        ...       ...       ...          ...  \n",
      "412 -0.002592  0.006209  0.085907        261.0  \n",
      "413 -0.039493 -0.035817  0.019633        113.0  \n",
      "414  0.091875  0.054724  0.007207        131.0  \n",
      "415  0.071210  0.014823  0.003064        174.0  \n",
      "416  0.003312 -0.029528  0.036201        257.0  \n",
      "417 -0.021412 -0.046879  0.003064         55.0  \n",
      "418 -0.002592 -0.021394  0.007207         84.0  \n",
      "419 -0.039493 -0.074089 -0.005220         42.0  \n",
      "420  0.034309 -0.033249  0.061054        146.0  \n",
      "421  0.071210  0.049769  0.015491        212.0  \n",
      "422 -0.002592  0.040672 -0.009362        233.0  \n",
      "423  0.108111  0.015567 -0.046641         91.0  \n",
      "424  0.034309  0.024053  0.023775        111.0  \n",
      "425 -0.076395 -0.020289 -0.050783        152.0  \n",
      "426  0.057557  0.035462  0.085907        120.0  \n",
      "427 -0.039493 -0.045421  0.032059         67.0  \n",
      "428  0.034309  0.066048  0.131470        310.0  \n",
      "429 -0.024733 -0.025952 -0.038357         94.0  \n",
      "430  0.034309 -0.009919 -0.017646        183.0  \n",
      "431 -0.039493 -0.014956 -0.001078         66.0  \n",
      "432  0.023239  0.055684  0.106617        173.0  \n",
      "433 -0.039493 -0.051401 -0.009362         72.0  \n",
      "434 -0.039493 -0.045421  0.032059         49.0  \n",
      "435 -0.002592 -0.038459 -0.038357         64.0  \n",
      "436 -0.076395 -0.061177 -0.046641         48.0  \n",
      "437 -0.002592  0.031193  0.007207        178.0  \n",
      "438  0.034309 -0.018118  0.044485        104.0  \n",
      "439 -0.011080 -0.046879  0.015491        132.0  \n",
      "440  0.026560  0.044528 -0.025930        220.0  \n",
      "441 -0.039493 -0.004220  0.003064         57.0  \n",
      "\n",
      "[442 rows x 11 columns]\n"
     ]
    }
   ],
   "source": [
    "dfX = pd.DataFrame(X, columns = dia.feature_names)\n",
    "dfy = pd.DataFrame(y, columns = [\"progression\"] )\n",
    "df = pd.concat([dfX,dfy],axis =1)\n",
    "print(df)"
   ]
  },
  {
   "cell_type": "code",
   "execution_count": 15,
   "metadata": {},
   "outputs": [
    {
     "data": {
      "text/plain": [
       "Ridge(alpha=5, copy_X=True, fit_intercept=True, max_iter=None,\n",
       "   normalize=False, random_state=None, solver='auto', tol=0.001)"
      ]
     },
     "execution_count": 15,
     "metadata": {},
     "output_type": "execute_result"
    }
   ],
   "source": [
    "#Regression\n",
    "reg = LinearRegression()\n",
    "lasso_reg = Lasso(alpha = 5)\n",
    "ridge_reg = Ridge(alpha = 5)\n",
    "\n",
    "reg.fit(X,y)\n",
    "lasso_reg.fit(X,y)\n",
    "ridge_reg.fit(X,y)"
   ]
  },
  {
   "cell_type": "code",
   "execution_count": 16,
   "metadata": {},
   "outputs": [
    {
     "name": "stdout",
     "output_type": "stream",
     "text": [
      "linear_Regression\n",
      "age: -10.012198\n",
      "sex: -239.819089\n",
      "bmi: 519.839787\n",
      "bp: 324.390428\n",
      "s1: -792.184162\n",
      "s2: 476.745838\n",
      "s3: 101.044570\n",
      "s4: 177.064176\n",
      "s5: 751.279321\n",
      "s6: 67.625386\n",
      "intercept: 152.1334841628965 score: 0.5177494254132934\n"
     ]
    }
   ],
   "source": [
    "print('linear_Regression')\n",
    "for a, b in zip(dia.feature_names, reg.coef_):\n",
    "    print(\"%s: %f\" %(a,b))\n",
    "\n",
    "print(\"intercept:\",reg.intercept_,\"score:\",reg.score(X,y))\n"
   ]
  },
  {
   "cell_type": "code",
   "execution_count": 17,
   "metadata": {},
   "outputs": [
    {
     "name": "stdout",
     "output_type": "stream",
     "text": [
      "lasso_Regression\n",
      "age: 0.000000\n",
      "sex: 0.000000\n",
      "bmi: 0.000000\n",
      "bp: 0.000000\n",
      "s1: 0.000000\n",
      "s2: 0.000000\n",
      "s3: -0.000000\n",
      "s4: 0.000000\n",
      "s5: 0.000000\n",
      "s6: 0.000000\n",
      "intercept: 152.13348416289594 score: 0.0\n"
     ]
    }
   ],
   "source": [
    "# lasso_Regression\n",
    "print('lasso_Regression')\n",
    "for a, b in zip(dia.feature_names, lasso_reg.coef_):\n",
    "    print(\"%s: %f\" %(a,b))\n",
    "\n",
    "print(\"intercept:\",lasso_reg.intercept_,\"score:\",lasso_reg.score(X,y))"
   ]
  },
  {
   "cell_type": "code",
   "execution_count": 18,
   "metadata": {},
   "outputs": [
    {
     "name": "stdout",
     "output_type": "stream",
     "text": [
      "ridge_regression\n",
      "age: 28.273438\n",
      "sex: -9.316605\n",
      "bmi: 127.139552\n",
      "bp: 90.643162\n",
      "s1: 25.396307\n",
      "s2: 14.038693\n",
      "s3: -76.249206\n",
      "s4: 73.175098\n",
      "s5: 115.423085\n",
      "s6: 68.406750\n",
      "intercept: 152.13348416289605 score: 0.2786520923542041\n"
     ]
    }
   ],
   "source": [
    "# ridge_regression\n",
    "print('ridge_regression')\n",
    "for a, b in zip(dia.feature_names, ridge_reg.coef_):\n",
    "    print(\"%s: %f\" %(a,b))\n",
    "\n",
    "print(\"intercept:\",ridge_reg.intercept_,\"score:\",ridge_reg.score(X,y))\n"
   ]
  },
  {
   "cell_type": "code",
   "execution_count": 19,
   "metadata": {},
   "outputs": [],
   "source": [
    "# Diabetes progresion according to the ratio of s1\n",
    "x_5 = dfX['s1']\n",
    "x_5 = np.array(x_5).reshape(-1,1)\n",
    "reg.fit(x_5,y)\n",
    "lasso_reg.fit(x_5,y)\n",
    "ridge_reg.fit(x_5,y)\n",
    "\n",
    "reg.fit(x_5,y)\n",
    "lasso_reg.fit(x_5,y)\n",
    "ridge_reg.fit(x_5,y)\n",
    "\n",
    "predict_reg = reg.predict(x_5)\n",
    "predict_lasso = lasso_reg.predict(x_5)\n",
    "predict_ridge = ridge_reg.predict(x_5)"
   ]
  },
  {
   "cell_type": "code",
   "execution_count": 20,
   "metadata": {},
   "outputs": [
    {
     "data": {
      "image/png": "[encoded data removed]",
      "text/plain": [
       "<Figure size 432x288 with 1 Axes>"
      ]
     },
     "metadata": {},
     "output_type": "display_data"
    }
   ],
   "source": [
    "#linear regression plot\n",
    "\n",
    "plt.style.use('ggplot')\n",
    "\n",
    "plt.title('Linear_regression')\n",
    "plt.scatter(x_5,y,s =12)\n",
    "plt.plot(x_5,predict_reg,color='b',linestyle='-',label = 'regression')\n",
    "plt.plot(x_5,predict_lasso,color='g',linestyle = '--', label= 'lasso regression')\n",
    "plt.plot(x_5,predict_ridge,color='m',linestyle = ':', label = 'ridge regression')\n",
    "plt.xlabel('s1')\n",
    "plt.ylabel('progression')\n",
    "plt.legend() \n",
    "plt.show()"
   ]
  },
  {
   "cell_type": "code",
   "execution_count": 1,
   "metadata": {},
   "outputs": [],
   "source": [
    "# s1(T-cell의 변화된 정도)에 따른 당뇨의 연간 progression 데이터를 linear regression한 결과이다\n",
    "# 기본 regression을 한 결과, regression의 평가도에 해당하는 score가 약 0.52\n",
    "# lasso regression의 경우 score 가 0\n",
    "# ridge regression의 경우 score가 0.28이 나오는 것을 볼수 있다.\n",
    "# lasso regression의 경우는 alpha값이 너무 커서 underfitting된 경우라 볼 수 있다.\n",
    "# ridge regression의 기준으로 보면, s1의 변화에 따른 연간 당뇨병의 pregression은 큰 관계성이 나타나지 않는다는 것을 볼 수 있다."
   ]
  },
  {
   "cell_type": "code",
   "execution_count": null,
   "metadata": {},
   "outputs": [],
   "source": []
  },
  {
   "cell_type": "code",
   "execution_count": null,
   "metadata": {},
   "outputs": [],
   "source": []
  }
 ],
 "metadata": {
  "kernelspec": {
   "display_name": "Python 3",
   "language": "python",
   "name": "python3"
  },
  "language_info": {
   "codemirror_mode": {
    "name": "ipython",
    "version": 3
   },
   "file_extension": ".py",
   "mimetype": "text/x-python",
   "name": "python",
   "nbconvert_exporter": "python",
   "pygments_lexer": "ipython3",
   "version": "3.7.1"
  }
 },
 "nbformat": 4,
 "nbformat_minor": 2
}
